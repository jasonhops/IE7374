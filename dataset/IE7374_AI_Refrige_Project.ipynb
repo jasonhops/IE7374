{
 "cells": [
  {
   "cell_type": "code",
   "execution_count": 1,
   "id": "df88e4f6-fd07-49ad-82c5-15e867d469c7",
   "metadata": {},
   "outputs": [
    {
     "name": "stdout",
     "output_type": "stream",
     "text": [
      "   Unnamed: 0                  title  \\\n",
      "0           0    No-Bake Nut Cookies   \n",
      "1           1  Jewell Ball'S Chicken   \n",
      "2           2            Creamy Corn   \n",
      "3           3          Chicken Funny   \n",
      "4           4   Reeses Cups(Candy)     \n",
      "\n",
      "                                         ingredients  \\\n",
      "0  [\"1 c. firmly packed brown sugar\", \"1/2 c. eva...   \n",
      "1  [\"1 small jar chipped beef, cut up\", \"4 boned ...   \n",
      "2  [\"2 (16 oz.) pkg. frozen corn\", \"1 (8 oz.) pkg...   \n",
      "3  [\"1 large whole chicken\", \"2 (10 1/2 oz.) cans...   \n",
      "4  [\"1 c. peanut butter\", \"3/4 c. graham cracker ...   \n",
      "\n",
      "                                          directions  \\\n",
      "0  [\"In a heavy 2-quart saucepan, mix brown sugar...   \n",
      "1  [\"Place chipped beef on bottom of baking dish....   \n",
      "2  [\"In a slow cooker, combine all ingredients. C...   \n",
      "3  [\"Boil and debone chicken.\", \"Put bite size pi...   \n",
      "4  [\"Combine first four ingredients and press in ...   \n",
      "\n",
      "                                              link    source  \\\n",
      "0   www.cookbooks.com/Recipe-Details.aspx?id=44874  Gathered   \n",
      "1  www.cookbooks.com/Recipe-Details.aspx?id=699419  Gathered   \n",
      "2   www.cookbooks.com/Recipe-Details.aspx?id=10570  Gathered   \n",
      "3  www.cookbooks.com/Recipe-Details.aspx?id=897570  Gathered   \n",
      "4  www.cookbooks.com/Recipe-Details.aspx?id=659239  Gathered   \n",
      "\n",
      "                                                 NER  \n",
      "0  [\"brown sugar\", \"milk\", \"vanilla\", \"nuts\", \"bu...  \n",
      "1  [\"beef\", \"chicken breasts\", \"cream of mushroom...  \n",
      "2  [\"frozen corn\", \"cream cheese\", \"butter\", \"gar...  \n",
      "3  [\"chicken\", \"chicken gravy\", \"cream of mushroo...  \n",
      "4  [\"peanut butter\", \"graham cracker crumbs\", \"bu...  \n"
     ]
    }
   ],
   "source": [
    "import pandas as pd\n",
    "\n",
    "# Load the CSV file\n",
    "df = pd.read_csv(\"./RecipeNLG/RecipeNLG_dataset.csv\")\n",
    "\n",
    "# Display the first 5 rows\n",
    "print(df.head())\n"
   ]
  },
  {
   "cell_type": "code",
   "execution_count": 5,
   "id": "ac947b93-2a7b-460f-af6c-0ac887c39658",
   "metadata": {},
   "outputs": [
    {
     "name": "stdout",
     "output_type": "stream",
     "text": [
      "Samples saved successfully.\n"
     ]
    }
   ],
   "source": [
    "# Create a 1% sample\n",
    "sample_1 = df.sample(frac=0.01, random_state=42)\n",
    "sample_1.to_csv(\"RecipeNLG/RecipeNLG_dataset_1pct.csv\", index=False)\n",
    "\n",
    "# Create a 5% sample\n",
    "sample_5 = df.sample(frac=0.05, random_state=42)\n",
    "sample_5.to_csv(\"RecipeNLG/RecipeNLG_dataset_5pct.csv\", index=False)\n",
    "\n",
    "print(\"Samples saved successfully.\")"
   ]
  },
  {
   "cell_type": "code",
   "execution_count": 9,
   "id": "4cf3c19b-b7dc-4225-9e79-22bde42926fa",
   "metadata": {},
   "outputs": [
    {
     "data": {
      "text/plain": [
       "Unnamed: 0     22311\n",
       "title          22311\n",
       "ingredients    22311\n",
       "directions     22311\n",
       "link           22311\n",
       "source         22311\n",
       "NER            22311\n",
       "dtype: int64"
      ]
     },
     "execution_count": 9,
     "metadata": {},
     "output_type": "execute_result"
    }
   ],
   "source": [
    "sample_1.count()"
   ]
  },
  {
   "cell_type": "code",
   "execution_count": 23,
   "id": "47af9510-a15d-451c-acc7-2c7b7f3a0952",
   "metadata": {},
   "outputs": [
    {
     "data": {
      "text/plain": [
       "Unnamed: 0      int64\n",
       "title          object\n",
       "ingredients    object\n",
       "directions     object\n",
       "link           object\n",
       "source         object\n",
       "NER            object\n",
       "dtype: object"
      ]
     },
     "execution_count": 23,
     "metadata": {},
     "output_type": "execute_result"
    }
   ],
   "source": [
    "sample_1.dtypes"
   ]
  },
  {
   "cell_type": "code",
   "execution_count": 25,
   "id": "4769cab6-a02c-4a18-89cd-16fcbf9831cf",
   "metadata": {},
   "outputs": [],
   "source": [
    "import json\n",
    "\n",
    "# Columns that look like stringified lists\n",
    "list_columns = [\"ingredients\", \"directions\", \"NER\"]\n",
    "\n",
    "for col in list_columns:\n",
    "    sample_1[col] = sample_1[col].apply(json.loads)"
   ]
  },
  {
   "cell_type": "code",
   "execution_count": 39,
   "id": "de89f6f6-4677-4479-886f-f2605314c3a5",
   "metadata": {},
   "outputs": [
    {
     "data": {
      "text/plain": [
       "2015528    [flank steak, green onions, red wine, soy sauc...\n",
       "1608734    [rosemary, thyme, bay leaves, paprika, pepper,...\n",
       "778500            [carrots, butter, brown sugar, lemon rind]\n",
       "1334975    [Flour, Salt, Baking Powder, Sugar, Crisco, eg...\n",
       "116562                            [thin pretzels, margarine]\n",
       "Name: NER, dtype: object"
      ]
     },
     "execution_count": 39,
     "metadata": {},
     "output_type": "execute_result"
    }
   ],
   "source": [
    "sample_1['NER'].head()"
   ]
  },
  {
   "cell_type": "code",
   "execution_count": 47,
   "id": "84dbc2ec-ddc9-42e8-8053-33c34481632c",
   "metadata": {},
   "outputs": [
    {
     "name": "stdout",
     "output_type": "stream",
     "text": [
      "NER[0]: flank steak, green onions, red wine, soy sauce, salad oil, sesame seeds, brown sugar, grnd black pepper, grnd ginger, clove garlic, \n",
      "NER[1]: rosemary, thyme, bay leaves, paprika, pepper, red wine, chicken broth, button mushrooms, mushroom mix, carrots, onion, frozen green beans, black olives, handful grape tomatoes, chicken, stalks celery, water, \n",
      "NER[2]: carrots, butter, brown sugar, lemon rind, \n",
      "NER[3]: Flour, Salt, Baking Powder, Sugar, Crisco, egg, vinegar, Water, \n",
      "NER[4]: thin pretzels, margarine, \n"
     ]
    }
   ],
   "source": [
    "# Print NER items from first 5 rows (or any n)\n",
    "for i in range(5):\n",
    "    print(f\"NER[{i}]:\", end=\" \")\n",
    "    \n",
    "    for j in range(len(sample_1['NER'].iloc[i])):\n",
    "        print(sample_1['NER'].iloc[i][j], end=\", \")\n",
    "    \n",
    "    print()  # Newline after each row"
   ]
  },
  {
   "cell_type": "code",
   "execution_count": null,
   "id": "b7dda1c1-644e-4a91-b683-7a6c84196e53",
   "metadata": {},
   "outputs": [],
   "source": []
  }
 ],
 "metadata": {
  "kernelspec": {
   "display_name": "Python [conda env:base] *",
   "language": "python",
   "name": "conda-base-py"
  },
  "language_info": {
   "codemirror_mode": {
    "name": "ipython",
    "version": 3
   },
   "file_extension": ".py",
   "mimetype": "text/x-python",
   "name": "python",
   "nbconvert_exporter": "python",
   "pygments_lexer": "ipython3",
   "version": "3.11.11"
  }
 },
 "nbformat": 4,
 "nbformat_minor": 5
}
